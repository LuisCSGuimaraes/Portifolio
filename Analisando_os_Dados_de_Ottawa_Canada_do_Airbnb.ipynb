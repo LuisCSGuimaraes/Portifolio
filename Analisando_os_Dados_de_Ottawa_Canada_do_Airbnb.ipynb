{
  "nbformat": 4,
  "nbformat_minor": 0,
  "metadata": {
    "colab": {
      "name": "Analisando os Dados de Ottawa - Canada - do Airbnb.ipynb",
      "provenance": [],
      "authorship_tag": "ABX9TyM2GhgYga0NdzyMjZs78ORu",
      "include_colab_link": true
    },
    "kernelspec": {
      "name": "python3",
      "display_name": "Python 3"
    }
  },
  "cells": [
    {
      "cell_type": "markdown",
      "metadata": {
        "id": "view-in-github",
        "colab_type": "text"
      },
      "source": [
        "<a href=\"https://colab.research.google.com/github/LuisCSGuimaraes/Portifolio/blob/main/Analisando_os_Dados_de_Ottawa_Canada_do_Airbnb.ipynb\" target=\"_parent\"><img src=\"https://colab.research.google.com/assets/colab-badge.svg\" alt=\"Open In Colab\"/></a>"
      ]
    },
    {
      "cell_type": "code",
      "metadata": {
        "id": "BTnW-dggIFdE"
      },
      "source": [
        ""
      ],
      "execution_count": null,
      "outputs": []
    }
  ]
}